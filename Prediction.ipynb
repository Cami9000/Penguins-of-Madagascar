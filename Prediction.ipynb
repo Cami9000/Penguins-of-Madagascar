{
 "cells": [
  {
   "cell_type": "code",
   "execution_count": 12,
   "metadata": {},
   "outputs": [],
   "source": [
    "import sqlite3\n",
    "import pandas as pd\n",
    "\n",
    "conn = sqlite3.connect(\"penguins.db\")\n",
    "\n",
    "df = pd.read_sql(\"SELECT * FROM penguins\", conn)\n",
    "\n",
    "conn.close()"
   ]
  },
  {
   "cell_type": "code",
   "execution_count": 13,
   "metadata": {},
   "outputs": [
    {
     "name": "stdout",
     "output_type": "stream",
     "text": [
      "['Adelie' 'Chinstrap' 'Gentoo']\n"
     ]
    }
   ],
   "source": [
    "print(df[\"species\"].unique())"
   ]
  },
  {
   "cell_type": "code",
   "execution_count": 14,
   "metadata": {},
   "outputs": [
    {
     "name": "stdout",
     "output_type": "stream",
     "text": [
      "The predicted penguin: Chinstrap\n"
     ]
    }
   ],
   "source": [
    "import numpy as np\n",
    "from joblib import load\n",
    "import warnings\n",
    "warnings.filterwarnings('ignore')\n",
    "\n",
    "# Load the saved model\n",
    "model = load(\"penguin_classifier.joblib\")\n",
    "\n",
    "# Example on a new pinguin (bill_length, flipper_length, bill_depth)\n",
    "new_penguin = np.array([[50.0, 200.0, 18.0]])\n",
    "\n",
    "# Use the model to make a prediction\n",
    "predicted_class = model.predict(new_penguin)\n",
    "\n",
    "# Konvert the numeric code to species name\n",
    "species_mapping = {0: \"Adelie\", 1: \"Chinstrap\", 2: \"Gentoo\"}\n",
    "predicted_species = species_mapping[predicted_class[0]]\n",
    "\n",
    "print(f\"The predicted penguin: {predicted_species}\")\n"
   ]
  },
  {
   "cell_type": "code",
   "execution_count": 15,
   "metadata": {},
   "outputs": [
    {
     "name": "stdout",
     "output_type": "stream",
     "text": [
      "The predicted penguin: Adelie\n"
     ]
    }
   ],
   "source": [
    "# Load the saved model\n",
    "model = load(\"penguin_classifier.joblib\")\n",
    "\n",
    "# Example on a new pinguin (bill_length, flipper_length, bill_depth)\n",
    "new_penguin = np.array([[10.0, 150.0, 7.0]])\n",
    "\n",
    "# Use the model to make a prediction\n",
    "predicted_class = model.predict(new_penguin)\n",
    "\n",
    "# Konvert the numeric code to species name\n",
    "species_mapping = {0: \"Adelie\", 1: \"Chinstrap\", 2: \"Gentoo\"}\n",
    "predicted_species = species_mapping[predicted_class[0]]\n",
    "\n",
    "print(f\"The predicted penguin: {predicted_species}\")"
   ]
  },
  {
   "cell_type": "code",
   "execution_count": 17,
   "metadata": {},
   "outputs": [
    {
     "name": "stdout",
     "output_type": "stream",
     "text": [
      "The predicted penguin: Gentoo\n"
     ]
    }
   ],
   "source": [
    "# Load the saved model\n",
    "model = load(\"penguin_classifier.joblib\")\n",
    "\n",
    "# Example on a new pinguin (bill_length, flipper_length, bill_depth)\n",
    "new_penguin = np.array([[47.5, 217.0, 14.3]])\n",
    "\n",
    "# Use the model to make a prediction\n",
    "predicted_class = model.predict(new_penguin)\n",
    "\n",
    "# Konvert the numeric code to species name\n",
    "species_mapping = {0: \"Adelie\", 1: \"Chinstrap\", 2: \"Gentoo\"}\n",
    "predicted_species = species_mapping[predicted_class[0]]\n",
    "\n",
    "print(f\"The predicted penguin: {predicted_species}\")"
   ]
  },
  {
   "cell_type": "code",
   "execution_count": null,
   "metadata": {},
   "outputs": [],
   "source": []
  }
 ],
 "metadata": {
  "kernelspec": {
   "display_name": "Python (myenv)",
   "language": "python",
   "name": "myenv"
  },
  "language_info": {
   "codemirror_mode": {
    "name": "ipython",
    "version": 3
   },
   "file_extension": ".py",
   "mimetype": "text/x-python",
   "name": "python",
   "nbconvert_exporter": "python",
   "pygments_lexer": "ipython3",
   "version": "3.12.6"
  }
 },
 "nbformat": 4,
 "nbformat_minor": 2
}
