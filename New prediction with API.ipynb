{
 "cells": [
  {
   "cell_type": "code",
   "execution_count": 8,
   "metadata": {},
   "outputs": [],
   "source": [
    "import requests\n",
    "\n",
    "def fetch_new_penguin():\n",
    "    url = \"http://130.225.39.127:8000/new_penguin/\"\n",
    "    response = requests.get(url)\n",
    "\n",
    "    if response.status_code == 200:\n",
    "        new_penguin = response.json()\n",
    "        print(\"✅ New penguin picked up:\", new_penguin)\n",
    "        return new_penguin\n",
    "    else:\n",
    "        print(\"Error retrieving penguin:\", response.status_code)\n",
    "        return None\n"
   ]
  },
  {
   "cell_type": "code",
   "execution_count": 9,
   "metadata": {},
   "outputs": [
    {
     "name": "stdout",
     "output_type": "stream",
     "text": [
      "✅ New penguin picked up: {'bill_length_mm': 37.49674160932227, 'bill_depth_mm': 19.552948464630344, 'flipper_length_mm': 194.13346720834585, 'body_mass_g': 2908.216536400228, 'datetime': '2025-03-20T07:59:00+00:00'}\n",
      "Prediction: The penguin is a Adelie!\n"
     ]
    }
   ],
   "source": [
    "import numpy as np\n",
    "from joblib import load\n",
    "import warnings\n",
    "warnings.filterwarnings('ignore')\n",
    "\n",
    "\n",
    "# Load the saved model\n",
    "model = load(\"penguin_classifier.joblib\")\n",
    "\n",
    "# Get a new pinguin from API\n",
    "new_penguin = fetch_new_penguin()\n",
    "\n",
    "if new_penguin:\n",
    "    # Only relevant features\n",
    "    feature_values = np.array([[new_penguin[\"bill_length_mm\"], \n",
    "                                new_penguin[\"flipper_length_mm\"], \n",
    "                                new_penguin[\"bill_depth_mm\"]]])\n",
    "    \n",
    "    # Predict the pinguin\n",
    "    predicted_class = model.predict(feature_values)[0]\n",
    "\n",
    "    # Convert numbers back to species name\n",
    "    species_mapping = {0: \"Adelie\", 1: \"Chinstrap\", 2: \"Gentoo\"}\n",
    "    predicted_species = species_mapping.get(predicted_class, \"Unknown\")\n",
    "\n",
    "    print(f\"Prediction: The penguin is a {predicted_species}!\")\n",
    "    \n",
    "    # Save the result to a file so we can display it on GitHub Pages\n",
    "    with open(\"prediction.txt\", \"w\") as file:\n",
    "        file.write(f\"Latest prediction: {predicted_species}\\n\")\n"
   ]
  },
  {
   "cell_type": "code",
   "execution_count": null,
   "metadata": {},
   "outputs": [],
   "source": []
  }
 ],
 "metadata": {
  "kernelspec": {
   "display_name": "Python (myenv)",
   "language": "python",
   "name": "myenv"
  },
  "language_info": {
   "codemirror_mode": {
    "name": "ipython",
    "version": 3
   },
   "file_extension": ".py",
   "mimetype": "text/x-python",
   "name": "python",
   "nbconvert_exporter": "python",
   "pygments_lexer": "ipython3",
   "version": "3.12.6"
  }
 },
 "nbformat": 4,
 "nbformat_minor": 2
}
